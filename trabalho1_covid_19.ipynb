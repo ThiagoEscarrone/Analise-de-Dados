{
  "nbformat": 4,
  "nbformat_minor": 0,
  "metadata": {
    "colab": {
      "name": "trabalho1_covid_19.ipynb",
      "provenance": [],
      "collapsed_sections": []
    },
    "kernelspec": {
      "display_name": "Python 3",
      "language": "python",
      "name": "python3"
    },
    "language_info": {
      "codemirror_mode": {
        "name": "ipython",
        "version": 3
      },
      "file_extension": ".py",
      "mimetype": "text/x-python",
      "name": "python",
      "nbconvert_exporter": "python",
      "pygments_lexer": "ipython3",
      "version": "3.6.4"
    }
  },
  "cells": [
    {
      "cell_type": "markdown",
      "metadata": {
        "id": "yfa5nwqWxLht"
      },
      "source": [
        "# **Introdução e Análise de Dados: Trabalho 1**"
      ]
    },
    {
      "cell_type": "markdown",
      "metadata": {
        "id": "IvZ3LMj2fJ3Z"
      },
      "source": [
        "# **COVID-19 - Análise Exploratória de Dados**"
      ]
    },
    {
      "cell_type": "markdown",
      "metadata": {
        "id": "_1UDZEKHfWsA"
      },
      "source": [
        "Apesar do dataset conter dados de vários municípios do Rio Grande do Sul, o presente trabalho irá focar na análise em relação ao município de Alegrete. "
      ]
    },
    {
      "cell_type": "markdown",
      "metadata": {
        "id": "atZs3rnEc-UB"
      },
      "source": [
        "# **Obtenção dos Dados**"
      ]
    },
    {
      "cell_type": "markdown",
      "metadata": {
        "id": "sCSF0AuwdH5D"
      },
      "source": [
        "O conjunto de dados utilizado neste trabalho está hospedado na plataforma openDataSUS. Se trata de um dataset composto por dados sobre os casos do COVID-19 registrados a partir de março de 2020.\n",
        "\n",
        "O conjunto de dados completo está disponível no seguinte link:\n",
        "\n",
        "\n",
        "> https://opendatasus.saude.gov.br/dataset/casos-nacionais\n",
        "\n",
        "\n",
        "\n",
        "\n",
        "É possível acessar o dicionário de dados através do seguinte link:\n",
        "\n",
        "\n",
        "> https://opendatasus.saude.gov.br/dataset/140cf8b0-cade-43d8-b358-30d472c50fad/resource/0c0d4c0b-4000-4bc8-86f3-5ff286b468a2/download/dicionario-de-dados_e-sus-notifica-opendatasus-1.pdf\n",
        "\n"
      ]
    },
    {
      "cell_type": "markdown",
      "metadata": {
        "id": "q360GWrSpLQw"
      },
      "source": [
        "# **Carregamento de Dados**"
      ]
    },
    {
      "cell_type": "markdown",
      "metadata": {
        "id": "Ov0Gsq_BxbsY"
      },
      "source": [
        "Importação das bibliotecas:"
      ]
    },
    {
      "cell_type": "code",
      "metadata": {
        "id": "VMU19EybxdGz"
      },
      "source": [
        "                                                                                                                                                                                                                                                                                                                                                                                                                                                                                                                                                                                                                                                                                                                                                                                                                                                                                                                                                                                                                                                                                                                                                                                                                                                                                                                                                                                                                                                                                                                                                                                                                                                                                                                                                                                                                                                                                                                                                                                                                                                                                                                                                                                                                                                                                                                                                                                                                                                                                                                                                                                                                                                                                                                                                                                                                                                                                                                                                                                                                    import pandas as pd\n",
        "import numpy as np\n",
        "from numpy import nan as NA\n",
        "\n",
        "import matplotlib.pyplot as plt\n",
        "import seaborn as sns\n",
        "import matplotlib.ticker as mtick\n",
        "import matplotlib.pyplot as plt"
      ],
      "execution_count": null,
      "outputs": []
    },
    {
      "cell_type": "code",
      "metadata": {
        "id": "ggBH6HUC9-LC"
      },
      "source": [
        "df_dadosrs1 = pd.read_csv('https://s3-sa-east-1.amazonaws.com/ckan.saude.gov.br/dados-rs-1.csv' , sep=';', engine='python', encoding='latin-1')\n",
        "df_dadosrs2 = pd.read_csv('https://s3-sa-east-1.amazonaws.com/ckan.saude.gov.br/dados-rs-2.csv', sep=';', engine='python', encoding='latin-1')"
      ],
      "execution_count": null,
      "outputs": []
    },
    {
      "cell_type": "markdown",
      "metadata": {
        "id": "M-AONopezP_l"
      },
      "source": [
        "Concatenação dos dois DataFrames (df_dadosrs1 e df_dadosrs2) em apenas um DataFrame"
      ]
    },
    {
      "cell_type": "code",
      "metadata": {
        "id": "6yd5frcbzqIH"
      },
      "source": [
        "df_dadosrs= pd.concat([df_dadosrs1, df_dadosrs2], sort = False)\n",
        "#df_dadosrs"
      ],
      "execution_count": null,
      "outputs": []
    },
    {
      "cell_type": "markdown",
      "metadata": {
        "id": "7ZzUNKrKXOFi"
      },
      "source": [
        "# **Limpeza dos Dados**"
      ]
    },
    {
      "cell_type": "markdown",
      "metadata": {
        "id": "bjAOwRyCE6kE"
      },
      "source": [
        "**Verificação das colunas por tipos de dados**"
      ]
    },
    {
      "cell_type": "code",
      "metadata": {
        "colab": {
          "base_uri": "https://localhost:8080/"
        },
        "id": "RCoU2FUxAQNp",
        "outputId": "a2a0d580-ea6d-4ae1-b2b6-0dd8f8a2987f"
      },
      "source": [
        "df_dadosrs.dtypes"
      ],
      "execution_count": null,
      "outputs": [
        {
          "output_type": "execute_result",
          "data": {
            "text/plain": [
              "ÿid                         object\n",
              "dataNotificacao             object\n",
              "dataInicioSintomas          object\n",
              "dataNascimento              object\n",
              "sintomas                    object\n",
              "profissionalSaude           object\n",
              "cbo                         object\n",
              "condicoes                   object\n",
              "estadoTeste                 object\n",
              "dataTeste                   object\n",
              "tipoTeste                   object\n",
              "resultadoTeste              object\n",
              "paisOrigem                  object\n",
              "sexo                        object\n",
              "estado                      object\n",
              "estadoIBGE                  object\n",
              "municipio                   object\n",
              "municipioIBGE               object\n",
              "origem                      object\n",
              "cnes                        object\n",
              "estadoNotificacao           object\n",
              "estadoNotificacaoIBGE       object\n",
              "municipioNotificacao        object\n",
              "municipioNotificacaoIBGE    object\n",
              "excluido                    object\n",
              "validado                    object\n",
              "idade                       object\n",
              "dataEncerramento            object\n",
              "evolucaoCaso                object\n",
              "classificacaoFinal          object\n",
              "dtype: object"
            ]
          },
          "metadata": {
            "tags": []
          },
          "execution_count": 249
        }
      ]
    },
    {
      "cell_type": "markdown",
      "metadata": {
        "id": "0UQn4hT5bDea"
      },
      "source": [
        "**Removendo colunas do DataFrame**\n",
        "\n",
        "Nesse caso, informações como `ÿid, paisOrigem, estado, estadoIBGE, municipioIBGE, origem, cnes, estadoNotificacao, estadoNotificacaoIBGE, excluido, validado`, `datanascimento` e `dataencerramento` não são importantes e manter esses dados seria um gasto de processamento e memória desnecessário.\n",
        "\n",
        "\n",
        "\n",
        "\n"
      ]
    },
    {
      "cell_type": "code",
      "metadata": {
        "id": "6XBLJeE6bi9l"
      },
      "source": [
        "df_dadosrs.drop('ÿid', inplace=True, axis=1)\n",
        "df_dadosrs.drop('paisOrigem', inplace=True, axis=1)\n",
        "df_dadosrs.drop('estado', inplace=True, axis=1)\n",
        "df_dadosrs.drop('estadoIBGE', inplace=True, axis=1)\n",
        "df_dadosrs.drop('municipioIBGE', inplace=True, axis=1)\n",
        "df_dadosrs.drop('origem', inplace=True, axis=1)\n",
        "df_dadosrs.drop('cnes', inplace=True, axis=1)\n",
        "df_dadosrs.drop('estadoNotificacao', inplace=True, axis=1)\n",
        "df_dadosrs.drop('estadoNotificacaoIBGE', inplace=True, axis=1)\n",
        "df_dadosrs.drop('excluido', inplace=True, axis=1)\n",
        "df_dadosrs.drop('validado', inplace=True, axis=1)\n",
        "df_dadosrs.drop('dataNascimento', inplace=True, axis=1)\n",
        "df_dadosrs.drop('dataEncerramento', inplace=True, axis=1)"
      ],
      "execution_count": null,
      "outputs": []
    },
    {
      "cell_type": "markdown",
      "metadata": {
        "id": "vM0M5N08Eyrz"
      },
      "source": [
        "**Detectar valores ausentes para coluna do DataFrame**"
      ]
    },
    {
      "cell_type": "code",
      "metadata": {
        "colab": {
          "base_uri": "https://localhost:8080/"
        },
        "id": "oMxrcKfWEzOl",
        "outputId": "e3b2166b-8106-46a7-f76b-28b698d36519"
      },
      "source": [
        "df_dadosrs.isnull().sum()"
      ],
      "execution_count": null,
      "outputs": [
        {
          "output_type": "execute_result",
          "data": {
            "text/plain": [
              "dataNotificacao                 379\n",
              "dataInicioSintomas                0\n",
              "sintomas                       1657\n",
              "profissionalSaude              2424\n",
              "cbo                         1630212\n",
              "condicoes                   1634081\n",
              "estadoTeste                   96994\n",
              "dataTeste                    243391\n",
              "tipoTeste                    244611\n",
              "resultadoTeste               371722\n",
              "sexo                              3\n",
              "municipio                        20\n",
              "municipioNotificacao           2815\n",
              "municipioNotificacaoIBGE          0\n",
              "idade                             0\n",
              "evolucaoCaso                1271836\n",
              "classificacaoFinal          1131492\n",
              "dtype: int64"
            ]
          },
          "metadata": {
            "tags": []
          },
          "execution_count": 251
        }
      ]
    },
    {
      "cell_type": "markdown",
      "metadata": {
        "id": "8UYVByIPqetL"
      },
      "source": [
        "**Conversão de alguns campos do DataFrame**"
      ]
    },
    {
      "cell_type": "markdown",
      "metadata": {
        "id": "09f1FBTjUn7C"
      },
      "source": [
        "As colunas `dataNotificacao`, `dataInicioSintomas`, são do tipo object, então é necessário passar para o tipo to_datetime. \n",
        "\n",
        "Para este caso, optou-se dividir a string apartir do 'T'. Em sequência,  realizar a conversão dos campos object para o tipo to_datetime\n",
        "\n",
        "Também é necessário realizar a conversão do campo `idade` de object para numeric."
      ]
    },
    {
      "cell_type": "code",
      "metadata": {
        "id": "bcKi9pBAljF1"
      },
      "source": [
        "df_dadosrs['dataNotificacao'] = df_dadosrs['dataNotificacao'].apply(lambda x: str(x).title().split('T')[0])\n",
        "df_dadosrs['dataInicioSintomas'] = df_dadosrs['dataInicioSintomas'].apply(lambda x: str(x).title().split('T')[0])\n",
        "\n",
        "df_dadosrs['dataNotificacao']= pd.to_datetime(df_dadosrs['dataNotificacao'],dayfirst=True, errors='coerce')\n",
        "df_dadosrs['dataInicioSintomas'] = pd.to_datetime(df_dadosrs['dataInicioSintomas'],dayfirst=True, errors='coerce')\n",
        "\n",
        "df_dadosrs.cbo = df_dadosrs.cbo.str.replace('3222 - TÉCNICO OU AUXILIAR EM ENFERMAGEM','3222 - TÉCNICOS E AUXILIARES DE ENFERMAGEM')\n",
        "#df_dadosrs.cbo = df_dadosrs.cbo.str.replace('3222 - TÉCNICOS E AUXILIAR EM ENFERMAGEM','3222 - TÉCNICOS E AUXILIARES EM ENFERMAGEM')\n",
        "\n",
        "df_dadosrs[\"idade\"] = pd.to_numeric(df_dadosrs[\"idade\"], errors='coerce')\n",
        "#df_dadosrs.resultadoTeste = df_dadosrs.resultadoTeste.astype('category')"
      ],
      "execution_count": null,
      "outputs": []
    },
    {
      "cell_type": "markdown",
      "metadata": {
        "id": "tmVdZRURzwsy"
      },
      "source": [
        "# **Análise de Dados - Todos Municípios do Rio Grande do Sul**\n",
        "\n",
        "\n"
      ]
    },
    {
      "cell_type": "markdown",
      "metadata": {
        "id": "h4Z1cMfwWDzK"
      },
      "source": [
        "Após a concatenação dos DataFrames, o novo dataset é formado por **1.812.847 linhas** e **17 variáveis**.\n",
        "\n",
        "Antes de iniciar as análises sobre os dados de Alegrete, é interessante ter uma visão do comportamento dos dados no restante do estado.\n",
        "\n",
        "É possível verificar quais municípios apresentam os maiores números de casos confirmados de covid-19 em todo o estado do Rio Grande do Sul no ano de 2020."
      ]
    },
    {
      "cell_type": "code",
      "metadata": {
        "colab": {
          "base_uri": "https://localhost:8080/",
          "height": 326
        },
        "id": "k9qa1tQmXcJM",
        "outputId": "3fdb839e-d3a9-46ef-8e12-cb8a87699d25"
      },
      "source": [
        "condicoes = df_dadosrs[(df_dadosrs.resultadoTeste == 'Positivo')].municipioNotificacao.value_counts().head(20)\n",
        "condicoes.sort_values(ascending = True, inplace = True)\n",
        "\n",
        "plt.title('Top 20 -  Casos de COVID-19 por Município no RS', fontsize=18,)\n",
        "plt.xlabel('Total de Casos', fontsize=18)\n",
        "plt.ylabel('Município', fontsize=18)\n",
        "plt.barh(condicoes.index, condicoes.values, align='center')"
      ],
      "execution_count": null,
      "outputs": [
        {
          "output_type": "execute_result",
          "data": {
            "text/plain": [
              "<BarContainer object of 20 artists>"
            ]
          },
          "metadata": {
            "tags": []
          },
          "execution_count": 277
        },
        {
          "output_type": "display_data",
          "data": {
            "image/png": "[encoded data removed]",
            "text/plain": [
              "<Figure size 432x288 with 1 Axes>"
            ]
          },
          "metadata": {
            "tags": [],
            "needs_background": "light"
          }
        }
      ]
    },
    {
      "cell_type": "markdown",
      "metadata": {
        "id": "dVmMOg289hMg"
      },
      "source": [
        "\n",
        "\n",
        "---\n",
        "\n"
      ]
    },
    {
      "cell_type": "markdown",
      "metadata": {
        "id": "hRlb9ZVq3m9b"
      },
      "source": [
        "\n",
        "\n",
        "> O número mais impressionante é da cidade de **Porto Alegre** com mais de **70 mil casos** confirmados , que apresenta, pelo menos, três vezes mais casos do que o restante dos municípios listados.\n",
        "\n"
      ]
    },
    {
      "cell_type": "markdown",
      "metadata": {
        "id": "-6JKAWUO36Ek"
      },
      "source": [
        "# **Análise de Dados - Alegrete**\n",
        "\n",
        "\n"
      ]
    },
    {
      "cell_type": "markdown",
      "metadata": {
        "id": "vl0_Worvg2lB"
      },
      "source": [
        "Como o objetivo deste trabalho é analisar os dados do município de Alegrete. Então vamos criar um dataframe somente com esses dados.\n",
        "\n",
        "A biblioteca pandas proporciona o agrupamento de dados por valores das colunas, esta operação possibilita filtrar dados individuais por nome do Município.\n",
        "Cria-se   o   grupo   de   valores   (objeto   tipo   ‘DataFrameGroupBy’) chamando   a   função   ‘.groupby()’,  armazenando-a  na  variável  ‘df_agrupado’ e  passando  a  coluna  ‘municipio’  como parâmetro.\n",
        "\n",
        "\n",
        "> O novo dataset apenas com os **dados de Alegrete** possui **8347 linhas** e **19 colunas**.\n",
        "\n"
      ]
    },
    {
      "cell_type": "code",
      "metadata": {
        "colab": {
          "base_uri": "https://localhost:8080/",
          "height": 893
        },
        "id": "FckX_e7jdsof",
        "outputId": "3e7a835e-8b29-4a2e-bdaf-c7db1e676d33"
      },
      "source": [
        "df_agrupado = df_dadosrs.groupby(['municipioNotificacao'])\n",
        "df_alegrete = df_agrupado.get_group('Alegrete')\n",
        "df_alegrete"
      ],
      "execution_count": null,
      "outputs": [
        {
          "output_type": "execute_result",
          "data": {
            "text/html": [
              "<div>\n",
              "<style scoped>\n",
              "    .dataframe tbody tr th:only-of-type {\n",
              "        vertical-align: middle;\n",
              "    }\n",
              "\n",
              "    .dataframe tbody tr th {\n",
              "        vertical-align: top;\n",
              "    }\n",
              "\n",
              "    .dataframe thead th {\n",
              "        text-align: right;\n",
              "    }\n",
              "</style>\n",
              "<table border=\"1\" class=\"dataframe\">\n",
              "  <thead>\n",
              "    <tr style=\"text-align: right;\">\n",
              "      <th></th>\n",
              "      <th>dataNotificacao</th>\n",
              "      <th>dataInicioSintomas</th>\n",
              "      <th>sintomas</th>\n",
              "      <th>profissionalSaude</th>\n",
              "      <th>cbo</th>\n",
              "      <th>condicoes</th>\n",
              "      <th>estadoTeste</th>\n",
              "      <th>dataTeste</th>\n",
              "      <th>tipoTeste</th>\n",
              "      <th>resultadoTeste</th>\n",
              "      <th>sexo</th>\n",
              "      <th>municipio</th>\n",
              "      <th>municipioNotificacao</th>\n",
              "      <th>municipioNotificacaoIBGE</th>\n",
              "      <th>idade</th>\n",
              "      <th>evolucaoCaso</th>\n",
              "      <th>classificacaoFinal</th>\n",
              "    </tr>\n",
              "  </thead>\n",
              "  <tbody>\n",
              "    <tr>\n",
              "      <th>1316</th>\n",
              "      <td>2020-07-22</td>\n",
              "      <td>2020-07-18</td>\n",
              "      <td>Febre</td>\n",
              "      <td>Não</td>\n",
              "      <td>NaN</td>\n",
              "      <td>NaN</td>\n",
              "      <td>Concluído</td>\n",
              "      <td>2020-07-28T03:00:00.000Z</td>\n",
              "      <td>TESTE RÁPIDO - ANTICORPO</td>\n",
              "      <td>Positivo</td>\n",
              "      <td>Feminino</td>\n",
              "      <td>Alegrete</td>\n",
              "      <td>Alegrete</td>\n",
              "      <td>4300406</td>\n",
              "      <td>3.0</td>\n",
              "      <td>Cancelado</td>\n",
              "      <td>Confirmado Laboratorial</td>\n",
              "    </tr>\n",
              "    <tr>\n",
              "      <th>3705</th>\n",
              "      <td>2020-07-22</td>\n",
              "      <td>2020-07-09</td>\n",
              "      <td>Febre, Tosse, Outros</td>\n",
              "      <td>Não</td>\n",
              "      <td>NaN</td>\n",
              "      <td>NaN</td>\n",
              "      <td>Concluído</td>\n",
              "      <td>2020-07-21T03:00:00.000Z</td>\n",
              "      <td>TESTE RÁPIDO - ANTICORPO</td>\n",
              "      <td>Positivo</td>\n",
              "      <td>Feminino</td>\n",
              "      <td>Alegrete</td>\n",
              "      <td>Alegrete</td>\n",
              "      <td>4300406</td>\n",
              "      <td>2.0</td>\n",
              "      <td>Cura</td>\n",
              "      <td>Confirmado Laboratorial</td>\n",
              "    </tr>\n",
              "    <tr>\n",
              "      <th>3853</th>\n",
              "      <td>2020-07-22</td>\n",
              "      <td>2020-07-21</td>\n",
              "      <td>Tosse, Outros</td>\n",
              "      <td>Não</td>\n",
              "      <td>NaN</td>\n",
              "      <td>NaN</td>\n",
              "      <td>Concluído</td>\n",
              "      <td>2020-07-31T03:00:00.000Z</td>\n",
              "      <td>TESTE RÁPIDO - ANTICORPO</td>\n",
              "      <td>Positivo</td>\n",
              "      <td>Masculino</td>\n",
              "      <td>Alegrete</td>\n",
              "      <td>Alegrete</td>\n",
              "      <td>4300406</td>\n",
              "      <td>84.0</td>\n",
              "      <td>Cura</td>\n",
              "      <td>Confirmado Laboratorial</td>\n",
              "    </tr>\n",
              "    <tr>\n",
              "      <th>4494</th>\n",
              "      <td>2020-07-17</td>\n",
              "      <td>2020-07-17</td>\n",
              "      <td>Outros</td>\n",
              "      <td>Não</td>\n",
              "      <td>NaN</td>\n",
              "      <td>NaN</td>\n",
              "      <td>Concluído</td>\n",
              "      <td>2020-07-17T03:00:00.000Z</td>\n",
              "      <td>TESTE RÁPIDO - ANTICORPO</td>\n",
              "      <td>Negativo</td>\n",
              "      <td>Feminino</td>\n",
              "      <td>Alegrete</td>\n",
              "      <td>Alegrete</td>\n",
              "      <td>4300406</td>\n",
              "      <td>32.0</td>\n",
              "      <td>Cura</td>\n",
              "      <td>NaN</td>\n",
              "    </tr>\n",
              "    <tr>\n",
              "      <th>6863</th>\n",
              "      <td>2020-08-03</td>\n",
              "      <td>2020-08-03</td>\n",
              "      <td>Outros</td>\n",
              "      <td>Não</td>\n",
              "      <td>NaN</td>\n",
              "      <td>NaN</td>\n",
              "      <td>Concluído</td>\n",
              "      <td>2020-08-03T03:00:00.000Z</td>\n",
              "      <td>TESTE RÁPIDO - ANTICORPO</td>\n",
              "      <td>Positivo</td>\n",
              "      <td>Masculino</td>\n",
              "      <td>Alegrete</td>\n",
              "      <td>Alegrete</td>\n",
              "      <td>4300406</td>\n",
              "      <td>31.0</td>\n",
              "      <td>Cura</td>\n",
              "      <td>Confirmado Laboratorial</td>\n",
              "    </tr>\n",
              "    <tr>\n",
              "      <th>...</th>\n",
              "      <td>...</td>\n",
              "      <td>...</td>\n",
              "      <td>...</td>\n",
              "      <td>...</td>\n",
              "      <td>...</td>\n",
              "      <td>...</td>\n",
              "      <td>...</td>\n",
              "      <td>...</td>\n",
              "      <td>...</td>\n",
              "      <td>...</td>\n",
              "      <td>...</td>\n",
              "      <td>...</td>\n",
              "      <td>...</td>\n",
              "      <td>...</td>\n",
              "      <td>...</td>\n",
              "      <td>...</td>\n",
              "      <td>...</td>\n",
              "    </tr>\n",
              "    <tr>\n",
              "      <th>810013</th>\n",
              "      <td>2020-11-16</td>\n",
              "      <td>2020-11-13</td>\n",
              "      <td>Febre, Dor de Cabeça, Tosse, Dor de Garganta</td>\n",
              "      <td>Não</td>\n",
              "      <td>NaN</td>\n",
              "      <td>Doenças cardíacas crônicas</td>\n",
              "      <td>Concluído</td>\n",
              "      <td>2020-11-16T03:00:00.000Z</td>\n",
              "      <td>TESTE RÁPIDO - ANTÍGENO</td>\n",
              "      <td>Positivo</td>\n",
              "      <td>Masculino</td>\n",
              "      <td>Alegrete</td>\n",
              "      <td>Alegrete</td>\n",
              "      <td>4300406</td>\n",
              "      <td>62.0</td>\n",
              "      <td>Cura</td>\n",
              "      <td>Confirmado Laboratorial</td>\n",
              "    </tr>\n",
              "    <tr>\n",
              "      <th>810793</th>\n",
              "      <td>2020-11-11</td>\n",
              "      <td>2020-11-10</td>\n",
              "      <td>Dor de Garganta, Tosse, Coriza</td>\n",
              "      <td>Não</td>\n",
              "      <td>NaN</td>\n",
              "      <td>NaN</td>\n",
              "      <td>Concluído</td>\n",
              "      <td>2020-11-16T03:00:00.000Z</td>\n",
              "      <td>RT-PCR</td>\n",
              "      <td>Positivo</td>\n",
              "      <td>Feminino</td>\n",
              "      <td>Alegrete</td>\n",
              "      <td>Alegrete</td>\n",
              "      <td>4300406</td>\n",
              "      <td>62.0</td>\n",
              "      <td>Cura</td>\n",
              "      <td>Confirmado Laboratorial</td>\n",
              "    </tr>\n",
              "    <tr>\n",
              "      <th>810974</th>\n",
              "      <td>2020-11-11</td>\n",
              "      <td>2020-11-10</td>\n",
              "      <td>Dor de Garganta, Tosse, Febre, Outros</td>\n",
              "      <td>Não</td>\n",
              "      <td>NaN</td>\n",
              "      <td>NaN</td>\n",
              "      <td>Concluído</td>\n",
              "      <td>2020-11-17T03:00:00.000Z</td>\n",
              "      <td>RT-PCR</td>\n",
              "      <td>Positivo</td>\n",
              "      <td>Feminino</td>\n",
              "      <td>Alegrete</td>\n",
              "      <td>Alegrete</td>\n",
              "      <td>4300406</td>\n",
              "      <td>30.0</td>\n",
              "      <td>Cura</td>\n",
              "      <td>Confirmado Laboratorial</td>\n",
              "    </tr>\n",
              "    <tr>\n",
              "      <th>811064</th>\n",
              "      <td>2020-11-11</td>\n",
              "      <td>2020-11-10</td>\n",
              "      <td>Dor de Garganta, Tosse, Outros</td>\n",
              "      <td>Não</td>\n",
              "      <td>NaN</td>\n",
              "      <td>NaN</td>\n",
              "      <td>Concluído</td>\n",
              "      <td>2020-11-13T03:00:00.000Z</td>\n",
              "      <td>RT-PCR</td>\n",
              "      <td>Positivo</td>\n",
              "      <td>Masculino</td>\n",
              "      <td>Alegrete</td>\n",
              "      <td>Alegrete</td>\n",
              "      <td>4300406</td>\n",
              "      <td>29.0</td>\n",
              "      <td>Cura</td>\n",
              "      <td>Confirmado Laboratorial</td>\n",
              "    </tr>\n",
              "    <tr>\n",
              "      <th>811188</th>\n",
              "      <td>2020-11-11</td>\n",
              "      <td>2020-11-10</td>\n",
              "      <td>Dor de Cabeça, Tosse, Outros</td>\n",
              "      <td>Não</td>\n",
              "      <td>NaN</td>\n",
              "      <td>Doenças cardíacas crônicas</td>\n",
              "      <td>Concluído</td>\n",
              "      <td>2020-11-16T03:00:00.000Z</td>\n",
              "      <td>RT-PCR</td>\n",
              "      <td>Positivo</td>\n",
              "      <td>Masculino</td>\n",
              "      <td>Alegrete</td>\n",
              "      <td>Alegrete</td>\n",
              "      <td>4300406</td>\n",
              "      <td>59.0</td>\n",
              "      <td>Cura</td>\n",
              "      <td>Confirmado Laboratorial</td>\n",
              "    </tr>\n",
              "  </tbody>\n",
              "</table>\n",
              "<p>8347 rows × 17 columns</p>\n",
              "</div>"
            ],
            "text/plain": [
              "       dataNotificacao dataInicioSintomas  ... evolucaoCaso       classificacaoFinal\n",
              "1316        2020-07-22         2020-07-18  ...    Cancelado  Confirmado Laboratorial\n",
              "3705        2020-07-22         2020-07-09  ...         Cura  Confirmado Laboratorial\n",
              "3853        2020-07-22         2020-07-21  ...         Cura  Confirmado Laboratorial\n",
              "4494        2020-07-17         2020-07-17  ...         Cura                      NaN\n",
              "6863        2020-08-03         2020-08-03  ...         Cura  Confirmado Laboratorial\n",
              "...                ...                ...  ...          ...                      ...\n",
              "810013      2020-11-16         2020-11-13  ...         Cura  Confirmado Laboratorial\n",
              "810793      2020-11-11         2020-11-10  ...         Cura  Confirmado Laboratorial\n",
              "810974      2020-11-11         2020-11-10  ...         Cura  Confirmado Laboratorial\n",
              "811064      2020-11-11         2020-11-10  ...         Cura  Confirmado Laboratorial\n",
              "811188      2020-11-11         2020-11-10  ...         Cura  Confirmado Laboratorial\n",
              "\n",
              "[8347 rows x 17 columns]"
            ]
          },
          "metadata": {
            "tags": []
          },
          "execution_count": 255
        }
      ]
    },
    {
      "cell_type": "markdown",
      "metadata": {
        "id": "j_nzEdWLYJG5"
      },
      "source": [
        "### **Questão 1: Quantidade de Casos em Alegrete**"
      ]
    },
    {
      "cell_type": "markdown",
      "metadata": {
        "id": "HqvgT4tvApA-"
      },
      "source": [
        "Quantidade de casos no município de Alegrete?"
      ]
    },
    {
      "cell_type": "code",
      "metadata": {
        "colab": {
          "base_uri": "https://localhost:8080/",
          "height": 312
        },
        "id": "utZeWhbPd9pT",
        "outputId": "eb1e984f-d9ad-4e6b-f9f8-a3de00fb10b4"
      },
      "source": [
        "casos = df_alegrete['resultadoTeste'].value_counts()\n",
        "casos.sort_values(ascending = True, inplace = True)\n",
        "#casos = casos.drop(labels='undefined')\n",
        "\n",
        "plt.xlabel('Testes')\n",
        "plt.ylabel('Resultado dos Testes')\n",
        "plt.title('Relação de Testes Positivos x Negativos')\n",
        "plt.barh(casos.index, casos.values)"
      ],
      "execution_count": null,
      "outputs": [
        {
          "output_type": "execute_result",
          "data": {
            "text/plain": [
              "<BarContainer object of 3 artists>"
            ]
          },
          "metadata": {
            "tags": []
          },
          "execution_count": 256
        },
        {
          "output_type": "display_data",
          "data": {
            "image/png": "[encoded data removed]",
            "text/plain": [
              "<Figure size 432x288 with 1 Axes>"
            ]
          },
          "metadata": {
            "tags": [],
            "needs_background": "light"
          }
        }
      ]
    },
    {
      "cell_type": "markdown",
      "metadata": {
        "id": "jCcVW_D1tNo2"
      },
      "source": [
        "\n",
        "\n",
        "---\n",
        "\n"
      ]
    },
    {
      "cell_type": "code",
      "metadata": {
        "colab": {
          "base_uri": "https://localhost:8080/",
          "height": 312
        },
        "id": "TD07Fh0DyxKa",
        "outputId": "0f435fb7-2744-4a4c-dcc2-8c540f3dcd56"
      },
      "source": [
        "df_alegrete['evolucaoCaso'].value_counts().sort_index().plot.barh()\n",
        "plt.xlabel('Quantidade')\n",
        "plt.ylabel('Evolução dos Casos')\n",
        "plt.title('Evolução dos Casos em Alegrete')\n"
      ],
      "execution_count": null,
      "outputs": [
        {
          "output_type": "execute_result",
          "data": {
            "text/plain": [
              "Text(0.5, 1.0, 'Evolução dos Casos em Alegrete')"
            ]
          },
          "metadata": {
            "tags": []
          },
          "execution_count": 257
        },
        {
          "output_type": "display_data",
          "data": {
            "image/png": "[encoded data removed]",
            "text/plain": [
              "<Figure size 432x288 with 1 Axes>"
            ]
          },
          "metadata": {
            "tags": [],
            "needs_background": "light"
          }
        }
      ]
    },
    {
      "cell_type": "markdown",
      "metadata": {
        "id": "ybKeOzC1SMxk"
      },
      "source": [
        "\n",
        "\n",
        "---\n",
        "\n"
      ]
    },
    {
      "cell_type": "markdown",
      "metadata": {
        "id": "aZPtwVC26uUX"
      },
      "source": [
        "> Este gráfico apresenta uma inconsistência, visto que não apresenta o número de óbitos. A hipótese é que, ao constatar um óbito, não há, por parte dos resposáveis, nenhum movimento ou intenção de reeditar os dados para declaração dessa informação. "
      ]
    },
    {
      "cell_type": "markdown",
      "metadata": {
        "id": "McJurps6tKq1"
      },
      "source": [
        "\n",
        "\n",
        "---\n",
        "\n"
      ]
    },
    {
      "cell_type": "markdown",
      "metadata": {
        "id": "UkwxnT9N78G6"
      },
      "source": [
        "### **Questão 2: Casos Positivos/Negativos - Mês**"
      ]
    },
    {
      "cell_type": "markdown",
      "metadata": {
        "id": "DhZ60XGVlkKQ"
      },
      "source": [
        "Qual o mês com o maior número casos ?\n"
      ]
    },
    {
      "cell_type": "code",
      "metadata": {
        "colab": {
          "base_uri": "https://localhost:8080/",
          "height": 521
        },
        "id": "2Qcxte55KgXk",
        "outputId": "006b69d0-2d6d-41f8-8205-87319f04be64"
      },
      "source": [
        "pos = df_alegrete[(df_alegrete.resultadoTeste == 'Positivo')].dataNotificacao.dt.month.value_counts()\n",
        "pos.sort_values(ascending = False, inplace = True)\n",
        "#pos\n",
        "neg = df_alegrete[(df_alegrete.resultadoTeste == 'Negativo')].dataNotificacao.dt.month.value_counts()\n",
        "neg.sort_values(ascending = False, inplace = True)\n",
        "#neg\n",
        "\n",
        "%matplotlib inline\n",
        "meses= ['Janeiro','Fevereiro','Março','Abril','Maio','Junho','Julho','Agosto','Setembro','Outubro','Novembro']\n",
        "\n",
        "fig = plt.figure(figsize=(15,8))\n",
        "ax = fig.add_subplot(111)\n",
        "# Variables that define subsets of the data, which will be drawn on separate facets in the grid.\n",
        "sns.lineplot(x=neg.index,y=neg, data=neg,marker='o', markersize=10,lw=4,color='red',ax=ax)\n",
        "sns.lineplot(x=pos.index,y=pos, data=pos,marker='s', markersize=10,lw=4,color='blue',ax=ax)\n",
        "plt.title('Casos Positivos/Negativos - Mês',fontsize=18,ha='right',color='black')\n",
        "sns.despine()\n",
        "# Change the colors of the left and bottom borders (fade into the background)\n",
        "ax.spines['left'].set_color('lightgray')\n",
        "ax.spines['bottom'].set_color('lightgray')\n",
        "ax.text(12.6, 310, 'Negativos', ha='right', va='top', fontsize=22,color='red')\n",
        "ax.text(12.6, 400, 'Positivos', ha='right', va='top', fontsize=22,color='blue')\n",
        "plt.ylabel('')\n",
        "plt.ylim(0,2000)\n",
        "ax.set(xticks=range(0, 11), xticklabels=list(meses))\n",
        "plt.ylabel('Volume  de Testes',fontsize=16,color='#616161')\n",
        "fig.text(\n",
        "        0.05, 0.05,\n",
        "        '',\n",
        "        ha='left',fontsize=12)"
      ],
      "execution_count": null,
      "outputs": [
        {
          "output_type": "execute_result",
          "data": {
            "text/plain": [
              "Text(0.05, 0.05, '')"
            ]
          },
          "metadata": {
            "tags": []
          },
          "execution_count": 258
        },
        {
          "output_type": "display_data",
          "data": {
            "image/png": "[encoded data removed]",
            "text/plain": [
              "<Figure size 1080x576 with 1 Axes>"
            ]
          },
          "metadata": {
            "tags": [],
            "needs_background": "light"
          }
        }
      ]
    },
    {
      "cell_type": "markdown",
      "metadata": {
        "id": "cCSx9rO_tGod"
      },
      "source": [
        "\n",
        "\n",
        "---\n",
        "\n"
      ]
    },
    {
      "cell_type": "markdown",
      "metadata": {
        "id": "rxtVakGJ94XZ"
      },
      "source": [
        "Desse gráfico, pode-se levantar algumas hipóteses comportamentais:\n",
        "\n",
        "\n",
        "*    Em Julho, a população parece se assustar com a pandemia, vê um aumento no número de casos positivos e um aumento significativo do número de testagens, demonstrado pela quantia de casos negativados. Esse comportamento se mantém até setembro. \n",
        "\n",
        "*   Em Outubro, parece ter havido uma queda acentuada no número de testagens, visto que tanto o número de positivos quanto de negativos cairam, talvez devido a queda na preocupação das pessoas.\n",
        "\n",
        "*   O Resultado disso é claramente visto em Novembro, onde há um aumento do número de positivos, resultado talvez do relaxamento anterior. Há também um aumento no número de testes. \n",
        "\n",
        "*   Novembro ainda está em aberto, porém vê-se que o número de positivos permaneceu relativamente constante, enquanto o negativo caiu muito, o que significa que poucos foram testados porém quase todos estavam com a doença. Isso possivelmente indica um aumento da pandemia, e agravamento da situação. \n",
        "\n",
        "\n",
        "\n",
        "\n"
      ]
    },
    {
      "cell_type": "markdown",
      "metadata": {
        "id": "ZFzRBqC9tW5C"
      },
      "source": [
        "\n",
        "\n",
        "---\n",
        "\n"
      ]
    },
    {
      "cell_type": "markdown",
      "metadata": {
        "id": "lQI_tjnRqLqy"
      },
      "source": [
        "\n",
        "\n",
        "> Como o objetivo deste trabalho é analisar os casos de COVID-19 confirmados em Alegrete, optamos por eliminar os casos negativos. Com a diminuição do volume de linhas, será possível melhorar a análise.\n",
        "\n",
        "\n",
        "> **Agora o dataset de Alegrete é formado por 1526 linhas.**\n",
        "\n",
        "\n",
        "\n",
        "\n",
        "\n",
        "\n",
        "\n"
      ]
    },
    {
      "cell_type": "code",
      "metadata": {
        "colab": {
          "base_uri": "https://localhost:8080/"
        },
        "id": "6btDsI8dto0R",
        "outputId": "81d39b56-08bd-4b52-e15f-091125331a2d"
      },
      "source": [
        "df_alegrete_positivos = df_alegrete[ df_alegrete['resultadoTeste'] == 'Negativo' ].index  \n",
        "df_alegrete.drop(df_alegrete_positivos, inplace = True) \n",
        "#df_alegrete "
      ],
      "execution_count": 153,
      "outputs": [
        {
          "output_type": "stream",
          "text": [
            "/usr/local/lib/python3.6/dist-packages/pandas/core/frame.py:4174: SettingWithCopyWarning: \n",
            "A value is trying to be set on a copy of a slice from a DataFrame\n",
            "\n",
            "See the caveats in the documentation: https://pandas.pydata.org/pandas-docs/stable/user_guide/indexing.html#returning-a-view-versus-a-copy\n",
            "  errors=errors,\n"
          ],
          "name": "stderr"
        }
      ]
    },
    {
      "cell_type": "markdown",
      "metadata": {
        "id": "KFgmIfW-5hlt"
      },
      "source": [
        "### **Questão 3: Quantidade de Casos Confirmados por Genêro**"
      ]
    },
    {
      "cell_type": "markdown",
      "metadata": {
        "id": "qi4CsCFrZrlv"
      },
      "source": [
        "Qual a porcentagem de casos de acordo com o genêro?\n",
        "\n",
        "\n"
      ]
    },
    {
      "cell_type": "code",
      "metadata": {
        "colab": {
          "base_uri": "https://localhost:8080/",
          "height": 296
        },
        "id": "5hvZcnZSB9eE",
        "outputId": "176d80f2-4840-4f35-8efd-3b2ca99f300f"
      },
      "source": [
        "homens = (df_alegrete['sexo'] == 'Masculino').sum()\n",
        "mulheres = (df_alegrete['sexo'] == 'Feminino').sum()\n",
        "proportions = [homens, mulheres]\n",
        "plt.pie(\n",
        "    proportions, \n",
        "    labels = ['Homens', 'Mulheres'],\n",
        "    shadow = False,\n",
        "    colors = ['lightskyblue','lightcoral'],\n",
        "    explode = (0.15 , 0),\n",
        "    startangle = 90,\n",
        "    autopct = '%1.1f%%'\n",
        "    )\n",
        "plt.axis('equal')\n",
        "plt.title(\"Casos confirmados por Genêro\")\n",
        "plt.tight_layout()\n",
        "plt.show()\n"
      ],
      "execution_count": null,
      "outputs": [
        {
          "output_type": "display_data",
          "data": {
            "image/png": "[encoded data removed]",
            "text/plain": [
              "<Figure size 432x288 with 1 Axes>"
            ]
          },
          "metadata": {
            "tags": []
          }
        }
      ]
    },
    {
      "cell_type": "markdown",
      "metadata": {
        "id": "ix2ZMae_Sa-s"
      },
      "source": [
        "\n",
        "\n",
        "---\n",
        "\n"
      ]
    },
    {
      "cell_type": "markdown",
      "metadata": {
        "id": "vFj0CrAoScR5"
      },
      "source": [
        "> As mulheres são as mais infectadas pelo vírus, ficando com um percentual de 55.7%."
      ]
    },
    {
      "cell_type": "markdown",
      "metadata": {
        "id": "IH_yVu9CSeiv"
      },
      "source": [
        "\n",
        "\n",
        "---\n",
        "\n"
      ]
    },
    {
      "cell_type": "markdown",
      "metadata": {
        "id": "rRZV34QR6eez"
      },
      "source": [
        "### **Questão 4: Quantidade de Casos Confirmados por Faixa Etária**"
      ]
    },
    {
      "cell_type": "markdown",
      "metadata": {
        "id": "-m-YQ-V-1_0n"
      },
      "source": [
        "Qual o total de confirmações por faixa etária?"
      ]
    },
    {
      "cell_type": "code",
      "metadata": {
        "colab": {
          "base_uri": "https://localhost:8080/",
          "height": 294
        },
        "id": "ZKoMJ9PhvXq1",
        "outputId": "704d4eb5-cff9-4059-a277-36aa34c4da29"
      },
      "source": [
        "df_alegrete[['idade']].plot(kind='hist',bins=[0,20,40,60,80,100],rwidth=0.8)\n",
        "plt.title(\"Casos confirmados por Faixa Etária\")\n",
        "plt.ylabel('Quantidade')\n",
        "plt.xlabel('Idade')\n",
        "plt.show()"
      ],
      "execution_count": null,
      "outputs": [
        {
          "output_type": "display_data",
          "data": {
            "image/png": "[encoded data removed]",
            "text/plain": [
              "<Figure size 432x288 with 1 Axes>"
            ]
          },
          "metadata": {
            "tags": [],
            "needs_background": "light"
          }
        }
      ]
    },
    {
      "cell_type": "markdown",
      "metadata": {
        "id": "Bv9wSVhmSqqa"
      },
      "source": [
        "\n",
        "\n",
        "---\n",
        "\n"
      ]
    },
    {
      "cell_type": "markdown",
      "metadata": {
        "id": "7SXKIRuKE6XZ"
      },
      "source": [
        "\n",
        "\n",
        "> O gráfico demonstra que a faixa etária mais afetada é a de 20 a 40 anos, seguido da de 40 a 60. Talvez porque sejam os mais expostos, devido ao trabalho? Ou por terem menos medo. Pode-se ainda ser apenas por serem em maior número na população. \n"
      ]
    },
    {
      "cell_type": "markdown",
      "metadata": {
        "id": "07jXJST4SsUA"
      },
      "source": [
        "\n",
        "\n",
        "---\n",
        "\n"
      ]
    },
    {
      "cell_type": "markdown",
      "metadata": {
        "id": "M9GTHf65gWrJ"
      },
      "source": [
        "Qual a frequência(histograma) de idade dos pacientes positivos do sexo feminino e masculino na cidade de Alegrete?\n"
      ]
    },
    {
      "cell_type": "code",
      "metadata": {
        "colab": {
          "base_uri": "https://localhost:8080/",
          "height": 597
        },
        "id": "QXoBPyk_gZrb",
        "outputId": "e50a27d4-eeaa-42b5-a985-4b08668d9d9e"
      },
      "source": [
        "colSelecionadas = ['sexo', 'resultadoTeste','idade']\n",
        "positivadoPorSexo = df_alegrete.filter(items=colSelecionadas)\n",
        "positivadoPorSexo = positivadoPorSexo.dropna()\n",
        "homens = positivadoPorSexo[(positivadoPorSexo['sexo'] == 'Masculino') & (positivadoPorSexo['resultadoTeste'] == 'Positivo')].groupby('sexo').plot(kind='hist', bins=35, title='Homens')\n",
        "mulheres = positivadoPorSexo[(positivadoPorSexo['sexo'] == 'Feminino') & (positivadoPorSexo['resultadoTeste'] == 'Positivo')].groupby('sexo').plot(kind='hist', bins=35, title='Mulheres')\n",
        "homens\n",
        "mulheres\n",
        " "
      ],
      "execution_count": null,
      "outputs": [
        {
          "output_type": "execute_result",
          "data": {
            "text/plain": [
              "sexo\n",
              "Feminino    AxesSubplot(0.125,0.125;0.775x0.755)\n",
              "dtype: object"
            ]
          },
          "metadata": {
            "tags": []
          },
          "execution_count": 148
        },
        {
          "output_type": "display_data",
          "data": {
            "image/png": "[encoded data removed]",
            "text/plain": [
              "<Figure size 432x288 with 1 Axes>"
            ]
          },
          "metadata": {
            "tags": [],
            "needs_background": "light"
          }
        },
        {
          "output_type": "display_data",
          "data": {
            "image/png": "[encoded data removed]",
            "text/plain": [
              "<Figure size 432x288 with 1 Axes>"
            ]
          },
          "metadata": {
            "tags": [],
            "needs_background": "light"
          }
        }
      ]
    },
    {
      "cell_type": "markdown",
      "metadata": {
        "id": "EmB6aBnEGvlu"
      },
      "source": [
        "\n",
        "\n",
        "---\n",
        "\n"
      ]
    },
    {
      "cell_type": "markdown",
      "metadata": {
        "id": "O3oVuwBu67-L"
      },
      "source": [
        "### **Questão 5: Quantidade de Casos por Comorbidades**"
      ]
    },
    {
      "cell_type": "markdown",
      "metadata": {
        "id": "OHdLiDx6gcXf"
      },
      "source": [
        "Qual a quantidade total de confirmação associadas a um ou mais tipos de comorbidades?"
      ]
    },
    {
      "cell_type": "code",
      "metadata": {
        "colab": {
          "base_uri": "https://localhost:8080/",
          "height": 312
        },
        "id": "He5TXkhCgdcw",
        "outputId": "0e98282d-0a26-425e-c3bb-4160a3e0285b"
      },
      "source": [
        "df_alegrete[\"condicoes\"].value_counts().head(10).plot(kind='barh')\n",
        "plt.title('Confirmações por comorbidades')\n",
        "plt.xlabel('Quantidade')\n",
        "plt.ylabel('Comorbidades')"
      ],
      "execution_count": null,
      "outputs": [
        {
          "output_type": "execute_result",
          "data": {
            "text/plain": [
              "Text(0, 0.5, 'Comorbidades')"
            ]
          },
          "metadata": {
            "tags": []
          },
          "execution_count": 263
        },
        {
          "output_type": "display_data",
          "data": {
            "image/png": "[encoded data removed]",
            "text/plain": [
              "<Figure size 432x288 with 1 Axes>"
            ]
          },
          "metadata": {
            "tags": [],
            "needs_background": "light"
          }
        }
      ]
    },
    {
      "cell_type": "markdown",
      "metadata": {
        "id": "HpDjKUnXG5pO"
      },
      "source": [
        "\n",
        "\n",
        "---\n",
        "\n"
      ]
    },
    {
      "cell_type": "markdown",
      "metadata": {
        "id": "ch9KpXdDG9Rv"
      },
      "source": [
        "Vê-se no gráfico o acentuado número de pacientes com doenças cardíacas crônicas entre as confirmações. Talvez porque haja um agravamento da covid nessas situações, ou ainda, porque há uma incidência maior da doença na população da cidade, em relação as outras comorbidades. "
      ]
    },
    {
      "cell_type": "markdown",
      "metadata": {
        "id": "C5y60HgN7azi"
      },
      "source": [
        "### **Questão 6: Quantidade de Casos por Sintomas**"
      ]
    },
    {
      "cell_type": "markdown",
      "metadata": {
        "id": "yulMyS0yzulS"
      },
      "source": [
        "Quais são os principais sintomas dos casos positivos?"
      ]
    },
    {
      "cell_type": "code",
      "metadata": {
        "colab": {
          "base_uri": "https://localhost:8080/",
          "height": 264
        },
        "id": "HNaxN3pgp48T",
        "outputId": "d3deb0c8-d30a-48f9-e479-f61aa57b38d2"
      },
      "source": [
        "df_alegrete[\"sintomas\"].value_counts().head(10).plot.pie()\n",
        "plt.title(\"Principais Sintomas\")\n",
        "plt.ylabel('')\n",
        "plt.show()"
      ],
      "execution_count": null,
      "outputs": [
        {
          "output_type": "display_data",
          "data": {
            "image/png": "[encoded data removed]",
            "text/plain": [
              "<Figure size 432x288 with 1 Axes>"
            ]
          },
          "metadata": {
            "tags": []
          }
        }
      ]
    },
    {
      "cell_type": "markdown",
      "metadata": {
        "id": "pukyAzxbTjaC"
      },
      "source": [
        "### **Questão 7: População Geral vs Profissionais da Saúde**"
      ]
    },
    {
      "cell_type": "markdown",
      "metadata": {
        "id": "e-qtNknlu4PM"
      },
      "source": [
        "Qual o número de profissionais de saúde que foram infectados?"
      ]
    },
    {
      "cell_type": "code",
      "metadata": {
        "colab": {
          "base_uri": "https://localhost:8080/",
          "height": 281
        },
        "id": "4Qfi70dkvEOs",
        "outputId": "a774250e-52f1-4217-ff2d-6ddec8fe8087"
      },
      "source": [
        "df_alegrete[\"cbo\"].value_counts().head(10).plot(kind='barh')\n",
        "plt.title(\"Profissionais da Saúde: Classificação Brasileira de Ocupações\")\n",
        "plt.ylabel('CBO')\n",
        "plt.show()"
      ],
      "execution_count": null,
      "outputs": [
        {
          "output_type": "display_data",
          "data": {
            "image/png": "[encoded data removed]",
            "text/plain": [
              "<Figure size 432x288 with 1 Axes>"
            ]
          },
          "metadata": {
            "tags": [],
            "needs_background": "light"
          }
        }
      ]
    },
    {
      "cell_type": "markdown",
      "metadata": {
        "id": "SYC0NsH_SHl5"
      },
      "source": [
        "**Comparação de Casos confirmados entre a População em Geral e os Profissionais da Saúde, agrupado por genêro**"
      ]
    },
    {
      "cell_type": "code",
      "metadata": {
        "colab": {
          "base_uri": "https://localhost:8080/",
          "height": 334
        },
        "id": "EeHBTXMSQtfx",
        "outputId": "9826b992-46fe-4e45-9015-92df3fbfe71a"
      },
      "source": [
        "df_alegrete.groupby(['sexo','profissionalSaude']).size().groupby(level=0).apply(\n",
        "    lambda x: 100 * x / x.sum()\n",
        ").unstack().plot(kind='bar',stacked=False)\n",
        "\n",
        "plt.gca().yaxis.set_major_formatter(mtick.PercentFormatter())\n",
        "plt.title(\"População Geral vs Profissionais da Saúde\")\n",
        "plt.show()"
      ],
      "execution_count": null,
      "outputs": [
        {
          "output_type": "display_data",
          "data": {
            "image/png": "[encoded data removed]",
            "text/plain": [
              "<Figure size 432x288 with 1 Axes>"
            ]
          },
          "metadata": {
            "tags": [],
            "needs_background": "light"
          }
        }
      ]
    },
    {
      "cell_type": "markdown",
      "metadata": {
        "id": "tSULqwwC_D1t"
      },
      "source": [
        "\n",
        "\n",
        "---\n",
        "\n"
      ]
    },
    {
      "cell_type": "markdown",
      "metadata": {
        "id": "f9ztk1xT8JWy"
      },
      "source": [
        "### **Questão 8: Critérios de Confirmação**"
      ]
    },
    {
      "cell_type": "markdown",
      "metadata": {
        "id": "JaTKzGKvXVGS"
      },
      "source": [
        "Quais são os critérios de confirmação utilizados?"
      ]
    },
    {
      "cell_type": "markdown",
      "metadata": {
        "id": "m9PRdxSv948H"
      },
      "source": [
        "Segundo o **Ministério da Saúde** os casos confirmados de COVID-19 podem ser caracterizados por diferentes critérios.\n",
        "\n",
        "O código abaixo mostra o total de casos confirmados por tipo de critérios de avaliação utilizados."
      ]
    },
    {
      "cell_type": "code",
      "metadata": {
        "colab": {
          "base_uri": "https://localhost:8080/",
          "height": 312
        },
        "id": "IlzYY52sAAeh",
        "outputId": "a0faa35e-6fd4-46fc-cb01-7bba2fab2c30"
      },
      "source": [
        "criterios = df_alegrete.classificacaoFinal.value_counts()\n",
        "criterios.sort_values(ascending = True, inplace = True)\n",
        "plt.xlabel('Total de Confirmações')\n",
        "plt.ylabel('Critérios')\n",
        "plt.title('Critérios de Confirmação')\n",
        "plt.barh(criterios.index, criterios.values)"
      ],
      "execution_count": null,
      "outputs": [
        {
          "output_type": "execute_result",
          "data": {
            "text/plain": [
              "<BarContainer object of 5 artists>"
            ]
          },
          "metadata": {
            "tags": []
          },
          "execution_count": 219
        },
        {
          "output_type": "display_data",
          "data": {
            "image/png": "[encoded data removed]",
            "text/plain": [
              "<Figure size 432x288 with 1 Axes>"
            ]
          },
          "metadata": {
            "tags": [],
            "needs_background": "light"
          }
        }
      ]
    }
  ]
}